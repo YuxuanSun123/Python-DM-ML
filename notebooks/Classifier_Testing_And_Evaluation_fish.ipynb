{
 "cells": [
  {
   "cell_type": "markdown",
   "metadata": {},
   "source": [
    "# 1. Load the images and the labels"
   ]
  },
  {
   "cell_type": "code",
   "execution_count": 1,
   "metadata": {},
   "outputs": [],
   "source": [
    "import os\n",
    "import numpy as np\n",
    "import cv2"
   ]
  },
  {
   "cell_type": "code",
   "execution_count": 3,
   "metadata": {},
   "outputs": [
    {
     "ename": "FileNotFoundError",
     "evalue": "[Errno 2] No such file or directory: '../data/Fish_Dataset/Fish_Dataset/'",
     "output_type": "error",
     "traceback": [
      "\u001B[0;31m---------------------------------------------------------------------------\u001B[0m",
      "\u001B[0;31mFileNotFoundError\u001B[0m                         Traceback (most recent call last)",
      "Cell \u001B[0;32mIn [3], line 3\u001B[0m\n\u001B[1;32m      1\u001B[0m DATASET_PATH \u001B[38;5;241m=\u001B[39m \u001B[38;5;124m'\u001B[39m\u001B[38;5;124m../data/Fish_Dataset/Fish_Dataset/\u001B[39m\u001B[38;5;124m'\u001B[39m\n\u001B[0;32m----> 3\u001B[0m folders \u001B[38;5;241m=\u001B[39m \u001B[43mos\u001B[49m\u001B[38;5;241;43m.\u001B[39;49m\u001B[43mlistdir\u001B[49m\u001B[43m(\u001B[49m\u001B[43mDATASET_PATH\u001B[49m\u001B[43m)\u001B[49m\n\u001B[1;32m      5\u001B[0m \u001B[38;5;66;03m# Get the labels name\u001B[39;00m\n\u001B[1;32m      6\u001B[0m labels \u001B[38;5;241m=\u001B[39m []\n",
      "\u001B[0;31mFileNotFoundError\u001B[0m: [Errno 2] No such file or directory: '../data/Fish_Dataset/Fish_Dataset/'"
     ]
    }
   ],
   "source": [
    "DATASET_PATH = '../data/Fish_Dataset/Fish_Dataset/'\n",
    "\n",
    "folders = os.listdir(DATASET_PATH)\n",
    "\n",
    "# Get the labels name\n",
    "labels = []\n",
    "for f in folders:\n",
    "    if not('.m' in f) and not('.txt' in f):\n",
    "        labels.append(f)\n",
    "labels = np.array(labels)\n",
    "\n",
    "\n",
    "# Get the images for each label\n",
    "img_shape = (128, 128) #resizing images to this shape ( after converting color image to gray image)\n",
    "n_sample_per_class = 600 #Keep only this number of samples per class (expensive complexity issue)\n",
    "nb_img = n_sample_per_class*len(labels) #1000 images per class\n",
    "\n",
    "X = np.zeros((nb_img, img_shape[0]*img_shape[1])) # feature matrix\n",
    "Y = np.zeros(nb_img) #labels vector\n",
    "for i in range(len(labels)):\n",
    "    folder = os.path.join(DATASET_PATH, labels[i], labels[i])\n",
    "    images = os.listdir(folder)\n",
    "    np.random.shuffle(images)\n",
    "    for j in range(n_sample_per_class):\n",
    "        img_path = os.path.join(folder, images[j])\n",
    "        img = cv2.imread(img_path, 0) #Load the gray image\n",
    "        #Resizing\n",
    "        img = cv2.resize(src=img, dsize=img_shape)\n",
    "        #Normalization\n",
    "        img = img/255\n",
    "        #Add the image in the feature matrix and its labels to the label vector\n",
    "        X[i*n_sample_per_class+j, :] = img.flatten()\n",
    "        Y[i*n_sample_per_class+j] = np.argwhere(labels==labels[i])[0]"
   ]
  },
  {
   "cell_type": "code",
   "execution_count": null,
   "metadata": {},
   "outputs": [],
   "source": [
    "print(\"Feature matrix : \\n\", X)\n",
    "print(\"Label vector : \\n\", Y)"
   ]
  },
  {
   "cell_type": "markdown",
   "metadata": {},
   "source": [
    "# 2. Use the PCA technique for reduction of dimentionality"
   ]
  },
  {
   "cell_type": "code",
   "execution_count": null,
   "metadata": {},
   "outputs": [],
   "source": [
    "from sklearn.decomposition import PCA"
   ]
  },
  {
   "cell_type": "code",
   "execution_count": null,
   "metadata": {},
   "outputs": [],
   "source": [
    "def pca_per_class(X, n_components):\n",
    "    \"\"\"\n",
    "    Create another dataset by selecting the n_components the most correlated for each class by using PCA for each class\n",
    "    :param X: the inital matrix feature\n",
    "    :param n_components: number of components to keep for each class\n",
    "    :return: X_pca : the new matrix feature\n",
    "    \"\"\"\n",
    "    pca_classes = [] #list with the PCA instance for each class\n",
    "    for i in range(len(labels)):\n",
    "        idx_samples = np.argwhere(Y == i)[:, 0]\n",
    "        X_class_i = X[idx_samples, :] # keep only the samples for the class i\n",
    "        #Instanciate the PCA\n",
    "        pca_i = PCA(n_components=n_components)\n",
    "        #Train the PCA\n",
    "        pca_i.fit_transform(X_class_i)\n",
    "        #Add to the list\n",
    "        pca_classes.append(pca_i)\n",
    "    #Transform the inital matrix feature with the PCA of the first class\n",
    "    X_pca = pca_classes[0].transform(X)\n",
    "    #Concatenate the other transform matrix to create the new matrix feature\n",
    "    for i in range(1, len(labels)):\n",
    "        X_pca_i = pca_classes[i].transform(X)\n",
    "        X_pca = np.concatenate((X_pca, X_pca_i), axis=1)\n",
    "    return X_pca\n",
    "\n",
    "X_pca_10 = pca_per_class(X, 10)"
   ]
  },
  {
   "cell_type": "markdown",
   "metadata": {},
   "source": [
    "# 3. Running classifier models"
   ]
  },
  {
   "cell_type": "markdown",
   "metadata": {},
   "source": [
    "Testing 3 different classifier models:\n",
    "- SVM\n",
    "- Nearest neighbour\n",
    "- Decision Tree"
   ]
  },
  {
   "cell_type": "code",
   "execution_count": null,
   "metadata": {},
   "outputs": [],
   "source": [
    "from sklearn.model_selection import train_test_split\n",
    "\n",
    "X_train, X_test, y_train, y_test = train_test_split(X_pca_10, Y, test_size=0.2, random_state=0)"
   ]
  },
  {
   "cell_type": "markdown",
   "metadata": {},
   "source": [
    "## 3.1 SVM classifier model"
   ]
  },
  {
   "cell_type": "code",
   "execution_count": null,
   "metadata": {},
   "outputs": [],
   "source": [
    "from sklearn import svm\n",
    "\n",
    "def run_svm_model(X_train, y_train, X_test):\n",
    "    model = svm.SVC(random_state=0)\n",
    "    model.fit(X_train, y_train)\n",
    "    y_pred = model.predict(X_test)\n",
    "    return model, y_pred\n",
    "\n",
    "model, y_pred = run_svm_model(X_train, y_train, X_test)"
   ]
  },
  {
   "cell_type": "markdown",
   "metadata": {},
   "source": [
    "## 3.2 Nearest Neighbour classifier model"
   ]
  },
  {
   "cell_type": "code",
   "execution_count": null,
   "metadata": {},
   "outputs": [],
   "source": [
    "from sklearn import neighbors\n",
    "\n",
    "def run_nn_model(X_train, y_train, X_test):\n",
    "    model = neighbors.KNeighborsClassifier(n_neighbors=3)\n",
    "    model.fit(X_train, y_train)\n",
    "    y_pred = model.predict(X_test)\n",
    "    return model, y_pred\n",
    "\n",
    "model, y_pred = run_nn_model(X_train, y_train, X_test)\n",
    "type(model)"
   ]
  },
  {
   "cell_type": "markdown",
   "metadata": {},
   "source": [
    "## 3.3 Decision tree model"
   ]
  },
  {
   "cell_type": "code",
   "execution_count": null,
   "metadata": {},
   "outputs": [],
   "source": [
    "from sklearn import tree\n",
    "\n",
    "def train_tree_model(X_train, y_train, X_test):\n",
    "    model = tree.DecisionTreeClassifier()\n",
    "    model.fit(X_train, y_train)\n",
    "    y_pred = model.predict(X_test)\n",
    "    return model, y_pred\n",
    "\n",
    "model, y_pred = train_tree_model(X_train, y_train, X_test)"
   ]
  },
  {
   "cell_type": "markdown",
   "metadata": {},
   "source": [
    "# 4. Evaluate the model via cross validation"
   ]
  },
  {
   "cell_type": "markdown",
   "metadata": {},
   "source": [
    "Evaluations:\n",
    "1. Classification report\n",
    "2. Main metrics (accuracy, precision, recall, F1 score)\n",
    "3. Confusion matrix\n",
    "4. ROC (TPR, FPR)"
   ]
  },
  {
   "cell_type": "markdown",
   "metadata": {},
   "source": [
    "## 4.1 Classification report"
   ]
  },
  {
   "cell_type": "code",
   "execution_count": null,
   "metadata": {},
   "outputs": [],
   "source": [
    "from sklearn.metrics import classification_report as sickit_classification_report\n",
    "\n",
    "def classification_report(model, y_test, y_pred):\n",
    "    print(f'Classification report for model {model}')\n",
    "    print(sickit_classification_report(y_test, y_pred))\n",
    "\n",
    "classification_report(svm_model, y_test, svm_pred)\n",
    "classification_report(nn_model, y_test, nn_pred)\n",
    "classification_report(tree_model, y_test, tree_pred)"
   ]
  },
  {
   "cell_type": "markdown",
   "metadata": {},
   "source": [
    "## 4.2. Evaluating the main metrics (accuracy, precision, recall, F1 score)"
   ]
  },
  {
   "cell_type": "code",
   "execution_count": null,
   "metadata": {},
   "outputs": [],
   "source": [
    "# Scores\n",
    "from sklearn.metrics import make_scorer\n",
    "from sklearn.metrics import accuracy_score, precision_score, recall_score, f1_score, roc_auc_score\n",
    "# Cross Validation\n",
    "from sklearn.model_selection import cross_val_predict\n",
    "from sklearn.model_selection import cross_validate\n",
    "# Plots\n",
    "import matplotlib.pyplot as plt"
   ]
  },
  {
   "cell_type": "code",
   "execution_count": null,
   "metadata": {},
   "outputs": [],
   "source": [
    "def plot_metrics_evolution_cv(score_cv, metric_keys, colors, title, ax=None):\n",
    "    if ax is None:\n",
    "        plt.figure()\n",
    "    for i in range(len(metric_keys)):\n",
    "        label = metric_keys[i].replace('test_', '')\n",
    "        if ax is None :\n",
    "            plt.plot(score_cv[metric_keys[i]], color=colors[i], label=label, linewidth=1)\n",
    "            plt.plot(np.arange(0, len(score_cv[metric_keys[i]])), np.mean(score_cv[metric_keys[i]])*np.ones(len(score_cv[metric_keys[i]])), linestyle='dashed', color=colors[i])\n",
    "            print('Mean of the {} : {}'.format(label, np.round(np.mean(score_cv[metric_keys[i]]), decimals=3)))\n",
    "        else:\n",
    "            ax.plot(score_cv[metric_keys[i]], color=colors[i], label=label, linewidth=1)\n",
    "            ax.plot(np.arange(0, len(score_cv[metric_keys[i]])), np.mean(score_cv[metric_keys[i]])*np.ones(len(score_cv[metric_keys[i]])), linestyle='dashed', color=colors[i])\n",
    "    plt.xlabel('Fold')\n",
    "    plt.ylabel('Value')\n",
    "    plt.title(title)\n",
    "    plt.legend()\n",
    "    plt.show()\n",
    "\n",
    "\n",
    "def main_metrics(model, X, Y):\n",
    "    scoring = {\n",
    "        \"Accuracy\": make_scorer(accuracy_score),\n",
    "        \"Precision\": make_scorer(precision_score, average='macro'),\n",
    "        'Recall': make_scorer(recall_score, average='macro'),\n",
    "        'F1_score': make_scorer(f1_score, average='macro')\n",
    "    }\n",
    "    scores = cross_validate(model, X, Y, scoring=scoring, cv=10)\n",
    "    predictions = cross_val_predict(model, X, Y, cv=10)\n",
    "    colors = ['k', 'b', 'g', 'r']\n",
    "    metric_keys = ['test_Accuracy', 'test_Precision', 'test_Recall', 'test_F1_score']\n",
    "    plot_metrics_evolution_cv(scores, metric_keys, colors, title=f'Metrics values during 10-fold cv for model {model}')\n",
    "\n",
    "\n",
    "main_metrics(model, X_pca_10, Y)"
   ]
  },
  {
   "cell_type": "markdown",
   "metadata": {},
   "source": [
    "The plot shows the values of the metrics in each fold of the cross-validation. We can see that there are some fluctuations of the metrics depending on the fold. Compared to the result with the train_test_method (metrics evaluation in fold 0), the cross-validation results show these fluctuations and the means of the metrics give a more realistic estimation of them."
   ]
  },
  {
   "cell_type": "markdown",
   "metadata": {},
   "source": [
    "## 4.3 Confusion matrix"
   ]
  },
  {
   "cell_type": "code",
   "execution_count": null,
   "metadata": {},
   "outputs": [],
   "source": [
    "from sklearn.metrics import confusion_matrix as sickit_confusion_matrix\n",
    "from sklearn.metrics import ConfusionMatrixDisplay"
   ]
  },
  {
   "cell_type": "code",
   "execution_count": null,
   "metadata": {},
   "outputs": [],
   "source": [
    "def confusion_matrix(model, y_test, y_pred):\n",
    "    labels = [0, 1, 2, 3, 4, 5, 6, 7, 8]\n",
    "    confMat = sickit_confusion_matrix(y_test, y_pred, labels=labels)\n",
    "    confMat_display = ConfusionMatrixDisplay(confusion_matrix=confMat, display_labels=labels)\n",
    "    confMat_display.plot()\n",
    "    confMat_display.ax_.set_title(f'Confusion Matrix for model {model}')\n",
    "\n",
    "confusion_matrix(model, y_test, y_pred)"
   ]
  },
  {
   "cell_type": "markdown",
   "metadata": {},
   "source": [
    "We can see on the confusion matrix that the classifier (here DecisionTree) have better results in some classes compared to the other. For example, the classes 3 and 6 have greater results than the classes 4 and 5."
   ]
  },
  {
   "cell_type": "markdown",
   "metadata": {},
   "source": [
    "## 4.4 Receiver Operating Characteristic (ROC)"
   ]
  },
  {
   "cell_type": "code",
   "execution_count": null,
   "metadata": {},
   "outputs": [],
   "source": [
    "from sklearn.metrics import roc_curve, auc\n",
    "from itertools import cycle"
   ]
  },
  {
   "cell_type": "code",
   "execution_count": null,
   "metadata": {},
   "outputs": [],
   "source": [
    "def plot_roc(model, roc_auc, n_classes, fpr, tpr):\n",
    "    colors = cycle([\"black\", \"blueviolet\", \"cornflowerblue\", \"aqua\", \"lime\", \"palegoldenrod\", \"lightsalmon\", \"orangered\", \"pink\"])\n",
    "    plt.figure(figsize=(8, 6))\n",
    "    for i, color in zip(range(n_classes), colors):\n",
    "        plt.plot(\n",
    "            fpr[i],\n",
    "            tpr[i],\n",
    "            color=color,\n",
    "            lw=2,\n",
    "            label=\"class:{0}, area:{1:0.2f})\".format(i, roc_auc[i]),\n",
    "        )\n",
    "    plt.plot([0, 1], [0, 1], \"k--\", lw=2)\n",
    "    plt.xlim([0.0, 1.0])\n",
    "    plt.ylim([0.0, 1.05])\n",
    "    plt.xlabel(\"False Positive Rate\")\n",
    "    plt.ylabel(\"True Positive Rate\")\n",
    "    plt.title(f\"ROC evaluation for model {model}\")\n",
    "    plt.legend(loc=\"lower right\", prop={'size': 7})\n",
    "    plt.show()\n",
    "\n",
    "\n",
    "def roc(model, y_test, y_pred):\n",
    "    n_classes = 9\n",
    "    fpr = dict()\n",
    "    tpr = dict()\n",
    "    roc_auc = dict()\n",
    "    for i in range(n_classes):\n",
    "        fpr[i], tpr[i], thresholds = roc_curve(y_test, y_pred, pos_label=i)\n",
    "        roc_auc[i] = auc(fpr[i], tpr[i])\n",
    "    plot_roc(model, roc_auc, n_classes, fpr, tpr)\n",
    "\n",
    "\n",
    "roc(model, y_test, y_pred)"
   ]
  },
  {
   "cell_type": "markdown",
   "metadata": {},
   "source": [
    "As we have seen with the confusion matrix, some classes have poor results while other seems to be good classified."
   ]
  },
  {
   "cell_type": "markdown",
   "metadata": {},
   "source": [
    "## 4.4 Box plots"
   ]
  },
  {
   "cell_type": "code",
   "execution_count": null,
   "metadata": {},
   "outputs": [],
   "source": [
    "SCORING = {\n",
    "    \"Accuracy\": make_scorer(accuracy_score),\n",
    "    \"Precision\": make_scorer(precision_score, average='macro'),\n",
    "    'Recall': make_scorer(recall_score, average='macro'),\n",
    "    'F1_score': make_scorer(f1_score, average='macro')\n",
    "}\n",
    "KEYS = ['test_Accuracy', 'test_Precision', 'test_Recall', 'test_F1_score']\n",
    "\n",
    "def plot_scores(scores, keys, labels):\n",
    "\n",
    "    plt.figure(figsize=(10, 10))\n",
    "    for i in range(len(keys)):\n",
    "        plt.subplot(2, 2, i+1)\n",
    "        metric_key = keys[i]\n",
    "        plt.title('{} in cross-validation per dataset'.format(metric_key.split('test_')[-1]))\n",
    "        plt.boxplot([score[metric_key] for score in scores])\n",
    "        plt.xticks(np.arange(1, len(labels) + 1), labels, rotation=90)\n",
    "        plt.xlabel('Dataset')\n",
    "        plt.ylabel('Value')\n",
    "    plt.tight_layout()"
   ]
  },
  {
   "cell_type": "markdown",
   "metadata": {},
   "source": [
    "### 4.4.1 (evaluating the PCAS)\n",
    "Compare the metrics results on different datasets (2, 5 and 10 top features per class and 216 top features)"
   ]
  },
  {
   "cell_type": "code",
   "execution_count": null,
   "metadata": {},
   "outputs": [],
   "source": [
    "def evaluate_pcas(model):\n",
    "    x_pcas = []\n",
    "    x_pcas.append(pca_per_class(X, 2))\n",
    "    x_pcas.append(pca_per_class(X, 5))\n",
    "    x_pcas.append(pca_per_class(X, 10))\n",
    "    pca_216 = PCA(216)\n",
    "    tr_pca_216 = pca_216.fit_transform(X)\n",
    "    x_pcas.append(tr_pca_216)\n",
    "    scores = []\n",
    "    for x_pca in x_pcas:\n",
    "        if isinstance(model, svm.SVC):\n",
    "            new_model = svm.SVC(random_state=0)\n",
    "        elif isinstance(model, neighbors._classification.KNeighborsClassifier):\n",
    "            new_model = neighbors.KNeighborsClassifier(n_neighbors=3)\n",
    "        else:\n",
    "            new_model = tree.DecisionTreeClassifier()\n",
    "        scores.append(cross_validate(new_model, x_pca, Y, scoring=SCORING, cv=10))\n",
    "    return scores"
   ]
  },
  {
   "cell_type": "code",
   "execution_count": null,
   "metadata": {},
   "outputs": [],
   "source": [
    "scores = evaluate_pcas(tree.DecisionTreeClassifier())\n",
    "plot_scores(scores, KEYS, ['2 TF/class', '5 TF/class', '10 TF/class', '216 TF'])"
   ]
  },
  {
   "cell_type": "markdown",
   "metadata": {},
   "source": [
    "### 4.4.2 Evaluate the models\n",
    "Compare the metrics results of different models trained and evaluated (with cross-validation) on the 10 top features per class dataset"
   ]
  },
  {
   "cell_type": "code",
   "execution_count": null,
   "metadata": {},
   "outputs": [],
   "source": [
    "def evaluate_models(X, Y):\n",
    "    models = [\n",
    "        svm.SVC(random_state=0),\n",
    "        neighbors.KNeighborsClassifier(n_neighbors=3),\n",
    "        tree.DecisionTreeClassifier()\n",
    "    ]\n",
    "    scores = []\n",
    "    for model in models:\n",
    "        scores.append(cross_validate(model, X, Y, scoring=SCORING, cv=10))\n",
    "    return scores"
   ]
  },
  {
   "cell_type": "code",
   "execution_count": null,
   "metadata": {},
   "outputs": [],
   "source": [
    "scores = evaluate_models(X_pca_10, Y)\n",
    "plot_scores(scores, KEYS, ['SVC', 'Nearest neighbour', 'Decision tree'])"
   ]
  },
  {
   "cell_type": "code",
   "execution_count": null,
   "metadata": {},
   "outputs": [],
   "source": []
  },
  {
   "cell_type": "code",
   "execution_count": null,
   "metadata": {},
   "outputs": [],
   "source": []
  }
 ],
 "metadata": {
  "kernelspec": {
   "display_name": "Python 3 (ipykernel)",
   "language": "python",
   "name": "python3"
  },
  "language_info": {
   "codemirror_mode": {
    "name": "ipython",
    "version": 3
   },
   "file_extension": ".py",
   "mimetype": "text/x-python",
   "name": "python",
   "nbconvert_exporter": "python",
   "pygments_lexer": "ipython3",
   "version": "3.10.8"
  },
  "vscode": {
   "interpreter": {
    "hash": "383d8051341f5d298ddbadd0e4b8c4c981575bfc821e39544c00e4e4b123d9f8"
   }
  }
 },
 "nbformat": 4,
 "nbformat_minor": 2
}
